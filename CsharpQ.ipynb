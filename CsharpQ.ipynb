{
 "cells": [
  {
   "cell_type": "markdown",
   "id": "812e367f",
   "metadata": {},
   "source": [
    "Question 1"
   ]
  },
  {
   "cell_type": "markdown",
   "id": "667268a0",
   "metadata": {},
   "source": [
    "//5  integer\n",
    "//5.0 float\n",
    "//5 > 1 Boolean operator\n",
    "//'5' char\n",
    "//5 * 2 integer\n",
    "//'5'  *  2 integer\n",
    "//'5'  +  '2' integer\n",
    "//5 / 2 integer arithmetic operator\n",
    "//5 % 2 integer arithmetic operator\n",
    "//{5,  2,  1} array\n",
    "//5 == 3 relational boolean operator\n",
    "//Pi  (the number) double\n"
   ]
  },
  {
   "cell_type": "markdown",
   "id": "a841eed9",
   "metadata": {},
   "source": [
    "Question 2 C#a"
   ]
  },
  {
   "cell_type": "code",
   "execution_count": null,
   "id": "f90832dd",
   "metadata": {},
   "outputs": [],
   "source": [
    "String word = \"Supercalifragilisticexpialidocious\";\n",
    "Console.WriteLine(word);\n",
    "\n",
    "int Noofletters = 0;\n",
    "\n",
    "foreach (Char letter in word)\n",
    "{\n",
    "    Noofletters++;\n",
    "}\n",
    "Console.WriteLine(\"No of letters= \");\n",
    "Console.WriteLine(Noofletters);\n"
   ]
  },
  {
   "cell_type": "markdown",
   "id": "263ffa90",
   "metadata": {},
   "source": [
    "Question 2 C#b"
   ]
  },
  {
   "cell_type": "code",
   "execution_count": null,
   "id": "7eada8fe",
   "metadata": {},
   "outputs": [],
   "source": [
    "String word = \"Supercalifragilisticexpialidocious\";\n",
    "Console.WriteLine(word);\n",
    "\n",
    "int Noofletters = 0;\n",
    "\n",
    "foreach (Char letter in word)\n",
    "{\n",
    "    Noofletters++;\n",
    "}\n",
    "\n",
    "\n",
    "string subword = \"ice\";\n",
    "Console.WriteLine(\"Location of substring 'ice'= \");\n",
    "Console.Write(word.IndexOf(\"ice\"));\n",
    "\n"
   ]
  },
  {
   "cell_type": "markdown",
   "id": "fe03d090",
   "metadata": {},
   "source": [
    "Question 2 C#c"
   ]
  },
  {
   "cell_type": "code",
   "execution_count": null,
   "id": "e44e8516",
   "metadata": {},
   "outputs": [],
   "source": [
    "String word1 = \"Supercalifragilisticexpialidocious\";\n",
    "String word2 = \"Honorificabilitudinitatibus\";\n",
    "string word3 = \"Bababadalgharaghtakamminarronnkonn\";\n",
    "\n",
    "Console.WriteLine(word1);\n",
    "\n",
    "int No1 = 0;\n",
    "\n",
    "foreach (Char letter in word1)\n",
    "{\n",
    "    No1++;\n",
    "}\n",
    "Console.WriteLine(\"No of letters for word1= \");\n",
    "Console.WriteLine(No1);\n",
    "\n",
    "\n",
    "Console.WriteLine(word2);\n",
    "\n",
    "int No2 = 0;\n",
    "\n",
    "foreach (Char letter in word2)\n",
    "{\n",
    "    No2++;\n",
    "}\n",
    "Console.WriteLine(\"No of letters for word2= \");\n",
    "Console.WriteLine(No2);\n",
    "\n",
    "Console.WriteLine(word3);\n",
    "\n",
    "int No3 = 0;\n",
    "\n",
    "foreach (Char letter in word3)\n",
    "{\n",
    "    No3++;\n",
    "}\n",
    "Console.WriteLine(\"No of letters for word3= \");\n",
    "Console.WriteLine(No3);\n",
    "\n",
    "if (No1 > No2 && No1 > No3)\n",
    "    Console.WriteLine(\"Word1 is the longest\");\n",
    "else if (No2 > No1 && No2 > No3)\n",
    "    Console.WriteLine(\"Word2 is the longest\");\n",
    "else if (No3 > No1 && No3 > No2)\n",
    "    Console.WriteLine(\"Word3 is the longest\");\n",
    "else\n",
    "    Console.WriteLine(\"values are the same\");\n"
   ]
  },
  {
   "cell_type": "markdown",
   "id": "a6c907bb",
   "metadata": {},
   "source": [
    "Question 2 C#d"
   ]
  },
  {
   "cell_type": "code",
   "execution_count": null,
   "id": "bec25699",
   "metadata": {},
   "outputs": [],
   "source": [
    "using System;\n",
    "\n",
    "string[] Bnames = new string[] { \"Berlioz\", \"Borodin\", \"Brian\", \"Bartok\", \"Bellini\", \"Buxtehude\", \"Bernstein\" };\n",
    "\n",
    "Array.Sort(Bnames);\n",
    "\n",
    "Console.WriteLine(\"The first name in alphabetical order: \" + Bnames[0]);\n",
    "Console.WriteLine(\"The last name in alphabetical order: \" + Bnames[Bnames.Length - 1]);"
   ]
  },
  {
   "cell_type": "markdown",
   "id": "767292f0",
   "metadata": {},
   "source": [
    "Question 3"
   ]
  },
  {
   "cell_type": "code",
   "execution_count": null,
   "id": "a078aaee",
   "metadata": {},
   "outputs": [],
   "source": [
    "Console.WriteLine(TriangleArea(2, 2, 2));\n",
    "\n",
    "\n",
    "static double TriangleArea(double a, double b, double c)\n",
    "{\n",
    "    double s = (a + b + c) / 2;\n",
    "    double area = Math.Sqrt(s * (s - a) * (s - b) * (s - c));\n",
    "    return area;\n",
    "\n",
    "}"
   ]
  },
  {
   "cell_type": "markdown",
   "id": "d7ff815e",
   "metadata": {},
   "source": [
    "Question 4"
   ]
  },
  {
   "cell_type": "code",
   "execution_count": null,
   "id": "de4f8bd7",
   "metadata": {},
   "outputs": [],
   "source": [
    "int no = 5;\n",
    "int[] a = new int[5] { 25, 47, 42, 56, 32 };\n",
    "int[] odd = new int[no];\n",
    "int[] even = new int[no];\n",
    "int i, j, k;\n",
    "\n",
    "for (i = 0, j = 0, k = 0; i < no; i++)\n",
    "{\n",
    "    if ((a[i] % 2) == 0)\n",
    "    {\n",
    "        even[j] = a[i];\n",
    "        j++;\n",
    "    }\n",
    "    else\n",
    "    {\n",
    "        odd[k] = a[i];\n",
    "        k++;\n",
    "    }\n",
    "}\n",
    "Console.WriteLine(\"The Even elements are: \");\n",
    "for (i = 0; i < j; i++)\n",
    "{\n",
    "    Console.Write($\"{even[i]} \\t\");\n",
    "}\n",
    "Console.WriteLine();\n",
    "Console.WriteLine(\"The Odd elements are: \");\n",
    "for (i = 0; i < k; i++)\n",
    "{\n",
    "    Console.Write($\"{odd[i]} \\t\");\n",
    "}\n"
   ]
  },
  {
   "cell_type": "markdown",
   "id": "7ac48198",
   "metadata": {},
   "source": [
    "Question 5"
   ]
  },
  {
   "cell_type": "code",
   "execution_count": null,
   "id": "89d4cd39",
   "metadata": {},
   "outputs": [],
   "source": [
    " {\n",
    "            Console.WriteLine(Inside(1, 1, 0, 0, 2, 3));  // True\n",
    "            Console.WriteLine(Inside(-1, -1, 0, 0, 2, 3));  // False\n",
    "            Console.ReadLine();\n",
    "        }\n",
    "\n",
    "        static bool Inside(int x, int y, int x1, int y1, int x2, int y2)\n",
    "        {\n",
    "            return x >= x1 && x <= x2 && y >= y1 && y <= y2;\n",
    "        }"
   ]
  },
  {
   "cell_type": "code",
   "execution_count": null,
   "id": "d81b626a",
   "metadata": {},
   "outputs": [],
   "source": [
    "{}\n",
    "    Console.WriteLine(Inside(1, 1, 0, 0, 2, 3));  // True\n",
    "    Console.WriteLine(Inside(-1, -1, 0, 0, 2, 3));  // False\n",
    "    Console.ReadLine();"
   ]
  }
 ],
 "metadata": {
  "kernelspec": {
   "display_name": "Python 3 (ipykernel)",
   "language": "python",
   "name": "python3"
  },
  "language_info": {
   "codemirror_mode": {
    "name": "ipython",
    "version": 3
   },
   "file_extension": ".py",
   "mimetype": "text/x-python",
   "name": "python",
   "nbconvert_exporter": "python",
   "pygments_lexer": "ipython3",
   "version": "3.9.13"
  }
 },
 "nbformat": 4,
 "nbformat_minor": 5
}
