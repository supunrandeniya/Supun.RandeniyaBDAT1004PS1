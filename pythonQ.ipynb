{
 "cells": [
  {
   "cell_type": "markdown",
   "id": "970ee1e5",
   "metadata": {},
   "source": [
    "Question 6"
   ]
  },
  {
   "cell_type": "code",
   "execution_count": 4,
   "id": "3b80ee68",
   "metadata": {},
   "outputs": [
    {
     "name": "stdout",
     "output_type": "stream",
     "text": [
      "Enter your word: supun\n",
      "upunsay\n"
     ]
    }
   ],
   "source": [
    "def pig():\n",
    "    word1 = input(\"Enter your word: \")\n",
    "    lower_word1 = word1.lower()\n",
    "    first_letter = lower_word1[0]\n",
    "    if first_letter in 'aeiou':\n",
    "        return lower_word1 + \"way\"\n",
    "    else:\n",
    "        return lower_word1[1:] + first_letter + \"ay\"\n",
    "\n",
    "print(pig())"
   ]
  },
  {
   "cell_type": "markdown",
   "id": "d8a08fad",
   "metadata": {},
   "source": [
    "Question 7"
   ]
  },
  {
   "cell_type": "code",
   "execution_count": 1,
   "id": "9bacd578",
   "metadata": {},
   "outputs": [
    {
     "name": "stdout",
     "output_type": "stream",
     "text": [
      "There are 15 patients of blood type A\n",
      "There are 1 patients of blood type B\n",
      "There are 13 patients of blood type AB\n",
      "There are 15 patients of blood type O\n",
      "There are 0 patients of blood type OO\n"
     ]
    }
   ],
   "source": [
    "def bldcnt(bloodfile):\n",
    "  count_a = 0\n",
    "  count_b = 0\n",
    "  count_o = 0\n",
    "  count_ab = 0\n",
    "  count_oo = 0\n",
    "  for bld in bloodfile:\n",
    "    btypes = bld.strip().split()\n",
    "    for btype in btypes:\n",
    "      if btype == 'A':\n",
    "        count_a += 1\n",
    "      elif btype == 'B':\n",
    "        count_b += 1\n",
    "      elif btype == 'AB':\n",
    "        count_ab += 1\n",
    "      elif btype == 'OO':\n",
    "        count_oo += 1\n",
    "      elif btype == 'O':\n",
    "        count_o += 1\n",
    "\n",
    "  print(\"There are\", count_a, \"patients of blood type A\")\n",
    "  print(\"There are\", count_b, \"patients of blood type B\")\n",
    "  print(\"There are\", count_ab, \"patients of blood type AB\")\n",
    "  print(\"There are\", count_o, \"patients of blood type O\")\n",
    "  print(\"There are\", count_oo, \"patients of blood type OO\")\n",
    "\n",
    "bfile = open(\"bloodtype1.txt\")\n",
    "bldcount(bfile)"
   ]
  },
  {
   "cell_type": "markdown",
   "id": "69d7674d",
   "metadata": {},
   "source": [
    "Question 8"
   ]
  },
  {
   "cell_type": "code",
   "execution_count": 2,
   "id": "3d52c939",
   "metadata": {},
   "outputs": [
    {
     "name": "stdout",
     "output_type": "stream",
     "text": [
      "122.96544\n",
      "1.241401\n"
     ]
    }
   ],
   "source": [
    "\n",
    "def read_exchange_rates():\n",
    "    exchange_rates = {\n",
    "        \"AUD\": 1.0345157,\n",
    "        \"CHF\": 1.0237414,\n",
    "        \"CNY\": 0.1550176,\n",
    "        \"DKK\": 0.1651442,\n",
    "        \"EUR\": 1.2296544,\n",
    "        \"GBP\": 1.5550989,\n",
    "        \"HKD\": 0.1270207,\n",
    "        \"INR\": 0.0177643,\n",
    "        \"JPY\": 0.01241401,\n",
    "        \"MXN\": 0.0751848,\n",
    "        \"MYR\": 0.3145411,\n",
    "        \"NOK\": 0.1677063,\n",
    "        \"NZD\": 0.8003591,\n",
    "        \"PHP\": 0.0233234,\n",
    "        \"SEK\": 0.148269,\n",
    "        \"SGD\": 0.788871,\n",
    "        \"THB\": 0.0313789\n",
    "    }\n",
    "    return exchange_rates\n",
    "\n",
    "def curconv(currency, amount):\n",
    "    exchange_rates = read_exchange_rates()\n",
    "    if currency in exchange_rates:\n",
    "        return amount * exchange_rates[currency]\n",
    "    else:\n",
    "        return None\n",
    "\n",
    "print(curconv('EUR', 100))\n",
    "print(curconv('JPY', 100))"
   ]
  },
  {
   "cell_type": "markdown",
   "id": "79f6a659",
   "metadata": {},
   "source": [
    "Question 9"
   ]
  },
  {
   "cell_type": "code",
   "execution_count": 9,
   "id": "2bff56e0",
   "metadata": {},
   "outputs": [
    {
     "ename": "SyntaxError",
     "evalue": "invalid syntax (3271628670.py, line 3)",
     "output_type": "error",
     "traceback": [
      "\u001b[1;36m  File \u001b[1;32m\"C:\\Users\\rande\\AppData\\Local\\Temp\\ipykernel_3872\\3271628670.py\"\u001b[1;36m, line \u001b[1;32m3\u001b[0m\n\u001b[1;33m    A:TypeError will be found.\u001b[0m\n\u001b[1;37m                ^\u001b[0m\n\u001b[1;31mSyntaxError\u001b[0m\u001b[1;31m:\u001b[0m invalid syntax\n"
     ]
    }
   ],
   "source": [
    "#Question 9\n",
    "#Q:Trying to add incompatible variables, as in adding 6 + ‘a’\n",
    "A:TypeError will be found.\n",
    "#Q:Referring to the 12th item of a list that has only 10 items\n",
    "A:Index Error will be found.\n",
    "#Q:Using a value that is out of range for a function’s input, such as calling math.sqrt(-1.0) \n",
    "A:Value Error will be found.\n",
    "#Q:Using an undeclared variable, such as print(x) when x has not been defined \n",
    "A:Name Error will be found.\n",
    "#Q:Trying to open a file that does not exist, such as mistyping the file name or looking in the wrong directory.\n",
    "A:FileNotFound Error will be found."
   ]
  },
  {
   "cell_type": "markdown",
   "id": "7fd6e020",
   "metadata": {},
   "source": [
    "Question 10"
   ]
  },
  {
   "cell_type": "code",
   "execution_count": 10,
   "id": "05c2edbe",
   "metadata": {},
   "outputs": [
    {
     "name": "stdout",
     "output_type": "stream",
     "text": [
      "Enter the text to count: The  quick  red  fox  got  bored  and  went  home\n",
      "[1, 1, 1, 3, 5, 1, 1, 2, 1, 0, 1, 0, 1, 2, 4, 0, 1, 2, 0, 3, 1, 0, 1, 1, 0, 0]\n"
     ]
    }
   ],
   "source": [
    "def frequencies():\n",
    "    text = input(\"Enter the text to count: \")\n",
    "    lists = \"abcdefghijklmnopqrstuvwxyz\"\n",
    "    voc_list = [0] * 26\n",
    "    for char in text:\n",
    "        if char.lower() in lists:\n",
    "            index = lists.index(char.lower())\n",
    "            voc_list[index] += 1\n",
    "    return voc_list\n",
    "\n",
    "count = frequencies()\n",
    "print(count)"
   ]
  },
  {
   "cell_type": "code",
   "execution_count": null,
   "id": "ff81f2e2",
   "metadata": {},
   "outputs": [],
   "source": []
  }
 ],
 "metadata": {
  "kernelspec": {
   "display_name": "Python 3 (ipykernel)",
   "language": "python",
   "name": "python3"
  },
  "language_info": {
   "codemirror_mode": {
    "name": "ipython",
    "version": 3
   },
   "file_extension": ".py",
   "mimetype": "text/x-python",
   "name": "python",
   "nbconvert_exporter": "python",
   "pygments_lexer": "ipython3",
   "version": "3.9.13"
  }
 },
 "nbformat": 4,
 "nbformat_minor": 5
}
